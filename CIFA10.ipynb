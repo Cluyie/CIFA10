{
 "cells": [
  {
   "cell_type": "markdown",
   "id": "b8737039",
   "metadata": {},
   "source": [
    "# Imports"
   ]
  },
  {
   "cell_type": "code",
   "execution_count": 1,
   "id": "ad03ddd0",
   "metadata": {},
   "outputs": [],
   "source": [
    "# Common imports\n",
    "import sys\n",
    "import os\n",
    "import sklearn\n",
    "import numpy as np\n",
    "import pandas as pd\n",
    "import tensorflow as tf\n",
    "from tensorflow import keras"
   ]
  },
  {
   "cell_type": "code",
   "execution_count": 2,
   "id": "8d3a6169",
   "metadata": {},
   "outputs": [],
   "source": [
    "# to make this notebook's output stable across runs\n",
    "np.random.seed(42)\n",
    "tf.random.set_seed(42)\n",
    "\n",
    "# To plot pretty figures\n",
    "%matplotlib inline\n",
    "import matplotlib.pyplot as plt\n",
    "\n",
    "# Ignore useless warnings (see SciPy issue #5998)\n",
    "import warnings\n",
    "warnings.filterwarnings(action=\"ignore\", message=\"^internal gelsd\")"
   ]
  },
  {
   "cell_type": "markdown",
   "id": "dbdcfd9e",
   "metadata": {},
   "source": [
    "# Load the data"
   ]
  },
  {
   "cell_type": "code",
   "execution_count": 3,
   "id": "9c9c5ded",
   "metadata": {},
   "outputs": [],
   "source": [
    "cifar10_mnist = keras.datasets.cifar10\n",
    "(X_train_full, y_train_full), (X_test, y_test) = cifar10_mnist.load_data()"
   ]
  },
  {
   "cell_type": "code",
   "execution_count": 4,
   "id": "fdb228bc",
   "metadata": {},
   "outputs": [
    {
     "data": {
      "text/plain": [
       "(50000, 32, 32, 3)"
      ]
     },
     "execution_count": 4,
     "metadata": {},
     "output_type": "execute_result"
    }
   ],
   "source": [
    "X_train_full.shape"
   ]
  },
  {
   "cell_type": "code",
   "execution_count": 5,
   "id": "43935c5e",
   "metadata": {},
   "outputs": [
    {
     "data": {
      "text/plain": [
       "(10000, 32, 32, 3)"
      ]
     },
     "execution_count": 5,
     "metadata": {},
     "output_type": "execute_result"
    }
   ],
   "source": [
    "X_test.shape"
   ]
  },
  {
   "cell_type": "code",
   "execution_count": 6,
   "id": "88d83d10",
   "metadata": {},
   "outputs": [
    {
     "data": {
      "text/plain": [
       "(45000, 32, 32, 3)"
      ]
     },
     "execution_count": 6,
     "metadata": {},
     "output_type": "execute_result"
    }
   ],
   "source": [
    "X_valid, X_train = X_train_full[:5000], X_train_full[5000:]\n",
    "y_valid, y_train = y_train_full[:5000], y_train_full[5000:]\n",
    "X_train.shape"
   ]
  },
  {
   "cell_type": "code",
   "execution_count": 7,
   "id": "7be13032",
   "metadata": {},
   "outputs": [
    {
     "data": {
      "text/plain": [
       "(32, 32, 3)"
      ]
     },
     "execution_count": 7,
     "metadata": {},
     "output_type": "execute_result"
    }
   ],
   "source": [
    "# Compute the mean for each pixel.\n",
    "pixel_means = X_train.mean(axis=0)\n",
    "pixel_means.shape"
   ]
  },
  {
   "cell_type": "code",
   "execution_count": 8,
   "id": "b8baf508",
   "metadata": {},
   "outputs": [],
   "source": [
    "# Compute the standard deviation for each pixel.\n",
    "pixel_stds = X_train.std(axis=0)"
   ]
  },
  {
   "cell_type": "code",
   "execution_count": 9,
   "id": "882b4e1c",
   "metadata": {},
   "outputs": [],
   "source": [
    "# Scale the inputs to mean 0 and standard deviation 1 to achieve self-normalization with SELU and LeCun.\n",
    "X_train_standardized = (X_train - pixel_means) / pixel_stds\n",
    "\n",
    "X_valid_standardized = (X_valid - X_valid.mean(axis=0)) / X_valid.std(axis=0)\n",
    "X_test_standardized = (X_test - X_test.mean(axis=0)) / X_test.std(axis=0)"
   ]
  },
  {
   "cell_type": "code",
   "execution_count": 10,
   "id": "515b923d",
   "metadata": {},
   "outputs": [
    {
     "data": {
      "text/plain": [
       "(45000, 32, 32, 3)"
      ]
     },
     "execution_count": 10,
     "metadata": {},
     "output_type": "execute_result"
    }
   ],
   "source": [
    "X_train_standardized.shape"
   ]
  },
  {
   "cell_type": "code",
   "execution_count": 11,
   "id": "63c79338",
   "metadata": {},
   "outputs": [
    {
     "data": {
      "text/plain": [
       "array([[[-9.20695619e-17, -2.96059473e-19, -1.45769816e-16],\n",
       "        [ 7.32796539e-17,  1.12759185e-16,  1.99988174e-17],\n",
       "        [ 5.81855551e-17, -5.07840683e-17, -1.16716513e-16],\n",
       "        ...,\n",
       "        [-1.18033978e-16, -1.13918751e-16, -2.95368668e-17],\n",
       "        [ 6.35047570e-17,  2.42966141e-17, -5.25653595e-17],\n",
       "        [ 1.02747440e-16, -1.42118416e-16,  1.57404953e-17]],\n",
       "\n",
       "       [[ 1.43771415e-16, -2.12008189e-16, -3.04645198e-17],\n",
       "        [-1.63933065e-16, -1.15739517e-16, -6.46741919e-17],\n",
       "        [-1.05939948e-16, -3.68791417e-17,  1.78430110e-16],\n",
       "        ...,\n",
       "        [-7.20115325e-17, -8.79099263e-17,  1.03719502e-17],\n",
       "        [ 4.34832417e-16,  1.16859608e-16,  2.03146142e-17],\n",
       "        [-3.50213685e-16, -2.16286248e-16,  1.62240591e-17]],\n",
       "\n",
       "       [[ 8.97899039e-17,  7.61810368e-17, -6.74818226e-17],\n",
       "        [-2.00200350e-16,  9.11271059e-17,  4.35651515e-17],\n",
       "        [-1.97624633e-16, -1.41481888e-16,  6.19652477e-17],\n",
       "        ...,\n",
       "        [ 1.82125919e-16, -1.74290212e-16, -9.16254726e-17],\n",
       "        [ 5.25456222e-17,  2.09955510e-16, -2.14351993e-16],\n",
       "        [ 2.08613373e-16, -2.07394595e-16, -2.01261230e-16]],\n",
       "\n",
       "       ...,\n",
       "\n",
       "       [[-1.76722834e-17, -1.39851094e-17,  3.57282105e-17],\n",
       "        [-3.60836052e-16, -2.23771619e-18,  2.92266211e-17],\n",
       "        [ 2.32745921e-17, -3.71372686e-17, -4.99168608e-17],\n",
       "        ...,\n",
       "        [-1.33335318e-16,  5.06853818e-17, -4.46561306e-16],\n",
       "        [ 4.80307152e-17, -4.01851392e-17,  8.02567889e-17],\n",
       "        [-8.66714108e-17,  7.71728360e-17, -3.61735333e-17]],\n",
       "\n",
       "       [[ 4.95961297e-18,  8.91200693e-17,  1.24063105e-16],\n",
       "        [ 3.61315915e-18,  9.29632914e-17,  5.26748398e-17],\n",
       "        [-3.90511312e-18,  1.57078208e-16,  4.62927536e-17],\n",
       "        ...,\n",
       "        [-9.45589286e-17, -4.98761526e-17, -2.67331836e-16],\n",
       "        [ 5.26295057e-17,  1.48779754e-16, -1.84899010e-16],\n",
       "        [ 1.64145241e-16,  1.12709841e-16,  5.98434882e-17]],\n",
       "\n",
       "       [[ 1.40971185e-16,  2.65946524e-16,  7.25354190e-17],\n",
       "        [ 1.93573552e-17, -1.36067700e-16,  1.67726943e-17],\n",
       "        [ 6.88918058e-17, -1.81716370e-16, -5.44849659e-17],\n",
       "        ...,\n",
       "        [-6.30606678e-17,  5.02141538e-17,  1.77068237e-17],\n",
       "        [ 1.48227110e-16, -5.99175031e-17, -1.26143540e-16],\n",
       "        [ 6.24132844e-16,  6.67663455e-17,  1.36345256e-16]]])"
      ]
     },
     "execution_count": 11,
     "metadata": {},
     "output_type": "execute_result"
    }
   ],
   "source": [
    "# Validate that the mean is close to 0 for each pixel.\n",
    "X_train_standardized.mean(axis=0)"
   ]
  },
  {
   "cell_type": "code",
   "execution_count": 12,
   "id": "f283b9df",
   "metadata": {
    "scrolled": true
   },
   "outputs": [
    {
     "data": {
      "text/plain": [
       "array([[[1., 1., 1.],\n",
       "        [1., 1., 1.],\n",
       "        [1., 1., 1.],\n",
       "        ...,\n",
       "        [1., 1., 1.],\n",
       "        [1., 1., 1.],\n",
       "        [1., 1., 1.]],\n",
       "\n",
       "       [[1., 1., 1.],\n",
       "        [1., 1., 1.],\n",
       "        [1., 1., 1.],\n",
       "        ...,\n",
       "        [1., 1., 1.],\n",
       "        [1., 1., 1.],\n",
       "        [1., 1., 1.]],\n",
       "\n",
       "       [[1., 1., 1.],\n",
       "        [1., 1., 1.],\n",
       "        [1., 1., 1.],\n",
       "        ...,\n",
       "        [1., 1., 1.],\n",
       "        [1., 1., 1.],\n",
       "        [1., 1., 1.]],\n",
       "\n",
       "       ...,\n",
       "\n",
       "       [[1., 1., 1.],\n",
       "        [1., 1., 1.],\n",
       "        [1., 1., 1.],\n",
       "        ...,\n",
       "        [1., 1., 1.],\n",
       "        [1., 1., 1.],\n",
       "        [1., 1., 1.]],\n",
       "\n",
       "       [[1., 1., 1.],\n",
       "        [1., 1., 1.],\n",
       "        [1., 1., 1.],\n",
       "        ...,\n",
       "        [1., 1., 1.],\n",
       "        [1., 1., 1.],\n",
       "        [1., 1., 1.]],\n",
       "\n",
       "       [[1., 1., 1.],\n",
       "        [1., 1., 1.],\n",
       "        [1., 1., 1.],\n",
       "        ...,\n",
       "        [1., 1., 1.],\n",
       "        [1., 1., 1.],\n",
       "        [1., 1., 1.]]])"
      ]
     },
     "execution_count": 12,
     "metadata": {},
     "output_type": "execute_result"
    }
   ],
   "source": [
    "# Validate that the standard deviation is close to 1 for each pixel.\n",
    "X_train_standardized.std(axis=0)"
   ]
  },
  {
   "cell_type": "markdown",
   "id": "dac65b5e",
   "metadata": {},
   "source": [
    "# Create a model using the Sequential API"
   ]
  },
  {
   "cell_type": "code",
   "execution_count": 13,
   "id": "41c4ff93",
   "metadata": {},
   "outputs": [],
   "source": [
    "model = keras.models.Sequential()\n",
    "# Input layer:\n",
    "model.add(keras.layers.Flatten(input_shape=[32, 32, 3]))\n",
    "\n",
    "# Hidden layers:\n",
    "for layer in range(14):\n",
    "    model.add(keras.layers.Dense(80, activation=\"selu\", kernel_initializer=\"lecun_normal\"))\n",
    "\n",
    "# Use alpha dropout in the last hidden layer.\n",
    "model.add(keras.layers.AlphaDropout(rate=0.20))\n",
    "    \n",
    "# Output layer.\n",
    "model.add(keras.layers.Dense(10, activation=\"softmax\"))"
   ]
  },
  {
   "cell_type": "markdown",
   "id": "5ecc5a7e",
   "metadata": {},
   "source": [
    "# Compile the model"
   ]
  },
  {
   "cell_type": "code",
   "execution_count": 14,
   "id": "720081d2",
   "metadata": {},
   "outputs": [],
   "source": [
    "# The optimixer is Stochastic Gradient Descent with momentum optimization. The momentum is set to 0.9.\n",
    "# This value usually works well in practice. We use the default learning rate (0.01).\n",
    "model.compile(loss=\"sparse_categorical_crossentropy\",\n",
    "              optimizer=keras.optimizers.SGD(momentum=0.9),\n",
    "              metrics=[\"accuracy\"])"
   ]
  },
  {
   "cell_type": "code",
   "execution_count": 15,
   "id": "3dedaa64",
   "metadata": {},
   "outputs": [
    {
     "name": "stdout",
     "output_type": "stream",
     "text": [
      "Epoch 1/40\n",
      "1407/1407 [==============================] - 3s 2ms/step - loss: 1.9701 - accuracy: 0.2872 - val_loss: 1.8836 - val_accuracy: 0.3546\n",
      "Epoch 2/40\n",
      "1407/1407 [==============================] - 3s 2ms/step - loss: 1.7301 - accuracy: 0.3827 - val_loss: 1.6884 - val_accuracy: 0.4094\n",
      "Epoch 3/40\n",
      "1407/1407 [==============================] - 3s 2ms/step - loss: 1.6336 - accuracy: 0.4241 - val_loss: 1.6278 - val_accuracy: 0.4342\n",
      "Epoch 4/40\n",
      "1407/1407 [==============================] - 3s 2ms/step - loss: 1.5710 - accuracy: 0.4484 - val_loss: 1.6390 - val_accuracy: 0.4314\n",
      "Epoch 5/40\n",
      "1407/1407 [==============================] - 3s 2ms/step - loss: 1.5205 - accuracy: 0.4680 - val_loss: 1.5862 - val_accuracy: 0.4672\n",
      "Epoch 6/40\n",
      "1407/1407 [==============================] - 3s 2ms/step - loss: 1.4755 - accuracy: 0.4888 - val_loss: 1.6140 - val_accuracy: 0.4626\n",
      "Epoch 7/40\n",
      "1407/1407 [==============================] - 3s 2ms/step - loss: 1.4403 - accuracy: 0.5008 - val_loss: 1.6281 - val_accuracy: 0.4658\n",
      "Epoch 8/40\n",
      "1407/1407 [==============================] - 3s 2ms/step - loss: 1.4090 - accuracy: 0.5105 - val_loss: 1.5229 - val_accuracy: 0.4698\n",
      "Epoch 9/40\n",
      "1407/1407 [==============================] - 3s 2ms/step - loss: 1.3804 - accuracy: 0.5237 - val_loss: 1.6277 - val_accuracy: 0.4666\n",
      "Epoch 10/40\n",
      "1407/1407 [==============================] - 3s 2ms/step - loss: 1.3538 - accuracy: 0.5350 - val_loss: 1.5733 - val_accuracy: 0.4896\n",
      "Epoch 11/40\n",
      "1407/1407 [==============================] - 3s 2ms/step - loss: 1.3360 - accuracy: 0.5416 - val_loss: 1.5772 - val_accuracy: 0.4900\n",
      "Epoch 12/40\n",
      "1407/1407 [==============================] - 3s 2ms/step - loss: 1.3034 - accuracy: 0.5512 - val_loss: 1.5705 - val_accuracy: 0.4938\n",
      "Epoch 13/40\n",
      "1407/1407 [==============================] - 3s 2ms/step - loss: 1.2868 - accuracy: 0.5591 - val_loss: 1.6134 - val_accuracy: 0.4946\n",
      "Epoch 14/40\n",
      "1407/1407 [==============================] - 3s 2ms/step - loss: 1.0860 - accuracy: 0.6259 - val_loss: 1.4749 - val_accuracy: 0.5258\n",
      "Epoch 15/40\n",
      "1407/1407 [==============================] - 3s 2ms/step - loss: 1.0194 - accuracy: 0.6494 - val_loss: 1.4982 - val_accuracy: 0.5262\n",
      "Epoch 16/40\n",
      "1407/1407 [==============================] - 3s 2ms/step - loss: 0.9917 - accuracy: 0.6586 - val_loss: 1.5193 - val_accuracy: 0.5290\n",
      "Epoch 17/40\n",
      "1407/1407 [==============================] - 3s 2ms/step - loss: 0.9709 - accuracy: 0.6659 - val_loss: 1.5473 - val_accuracy: 0.5284\n",
      "Epoch 18/40\n",
      "1407/1407 [==============================] - 3s 2ms/step - loss: 0.9506 - accuracy: 0.6717 - val_loss: 1.5696 - val_accuracy: 0.5308\n",
      "Epoch 19/40\n",
      "1407/1407 [==============================] - 3s 2ms/step - loss: 0.9354 - accuracy: 0.6774 - val_loss: 1.5860 - val_accuracy: 0.5280\n",
      "Epoch 20/40\n",
      "1407/1407 [==============================] - 3s 2ms/step - loss: 0.8976 - accuracy: 0.6924 - val_loss: 1.5925 - val_accuracy: 0.5300\n"
     ]
    }
   ],
   "source": [
    "# EarlyStopping (with rollback to the best model).\n",
    "early_stopping = keras.callbacks.EarlyStopping(patience=6, restore_best_weights=True)\n",
    "\n",
    "# Performance scheduling\n",
    "# (multiply the learning rate by a factor when the error stops dropping for a number of epochs, called patience)\n",
    "lr_scheduler = keras.callbacks.ReduceLROnPlateau(factor=0.1, patience=5)\n",
    "\n",
    "# Train the model with early stopping or performance scheduling or both. Training is much faster when\n",
    "# early stopping is used, but a slightly better accuracy is achieved with performance scheduling alone.\n",
    "history = model.fit(X_train_standardized, y_train, epochs=40,\n",
    "                    validation_data=(X_valid_standardized, y_valid),\n",
    "                    callbacks=[lr_scheduler, early_stopping])"
   ]
  },
  {
   "cell_type": "code",
   "execution_count": 16,
   "id": "aa31ce71",
   "metadata": {},
   "outputs": [
    {
     "data": {
      "image/png": "[encoded data removed]",
      "text/plain": [
       "<Figure size 576x360 with 1 Axes>"
      ]
     },
     "metadata": {
      "needs_background": "light"
     },
     "output_type": "display_data"
    }
   ],
   "source": [
    "# Show the learning curves.\n",
    "# (The training curves should be shifted half an epoch to the left to be completely comparable with\n",
    "# the validation curves).\n",
    "\n",
    "pd.DataFrame(history.history).plot(figsize=(8, 5))\n",
    "plt.grid(True)\n",
    "plt.gca().set_ylim(0, 1)\n",
    "plt.show()"
   ]
  },
  {
   "cell_type": "code",
   "execution_count": 17,
   "id": "78f5526e",
   "metadata": {},
   "outputs": [
    {
     "name": "stdout",
     "output_type": "stream",
     "text": [
      "313/313 [==============================] - 0s 1ms/step - loss: 1.4817 - accuracy: 0.5232\n"
     ]
    },
    {
     "data": {
      "text/plain": [
       "[1.4816969633102417, 0.5231999754905701]"
      ]
     },
     "execution_count": 17,
     "metadata": {},
     "output_type": "execute_result"
    }
   ],
   "source": [
    "model.evaluate(X_test_standardized, y_test)"
   ]
  }
 ],
 "metadata": {
  "kernelspec": {
   "display_name": "Python 3",
   "language": "python",
   "name": "python3"
  },
  "language_info": {
   "codemirror_mode": {
    "name": "ipython",
    "version": 3
   },
   "file_extension": ".py",
   "mimetype": "text/x-python",
   "name": "python",
   "nbconvert_exporter": "python",
   "pygments_lexer": "ipython3",
   "version": "3.8.8"
  }
 },
 "nbformat": 4,
 "nbformat_minor": 5
}
