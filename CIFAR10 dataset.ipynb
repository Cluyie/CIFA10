{
 "cells": [
  {
   "cell_type": "markdown",
   "id": "b8737039",
   "metadata": {},
   "source": [
    "# Imports"
   ]
  },
  {
   "cell_type": "code",
   "execution_count": 1,
   "id": "ad03ddd0",
   "metadata": {},
   "outputs": [],
   "source": [
    "# Common imports\n",
    "import sys\n",
    "import os\n",
    "import sklearn\n",
    "import numpy as np\n",
    "import pandas as pd\n",
    "import tensorflow as tf\n",
    "from tensorflow import keras"
   ]
  },
  {
   "cell_type": "code",
   "execution_count": 2,
   "id": "8d3a6169",
   "metadata": {},
   "outputs": [],
   "source": [
    "# to make this notebook's output stable across runs\n",
    "np.random.seed(42)\n",
    "tf.random.set_seed(42)\n",
    "\n",
    "# To plot pretty figures\n",
    "%matplotlib inline\n",
    "import matplotlib.pyplot as plt\n",
    "\n",
    "# Ignore useless warnings (see SciPy issue #5998)\n",
    "import warnings\n",
    "warnings.filterwarnings(action=\"ignore\", message=\"^internal gelsd\")"
   ]
  },
  {
   "cell_type": "markdown",
   "id": "dbdcfd9e",
   "metadata": {},
   "source": [
    "# Load the data"
   ]
  },
  {
   "cell_type": "code",
   "execution_count": 3,
   "id": "9c9c5ded",
   "metadata": {},
   "outputs": [],
   "source": [
    "# loading the cifar10 data from keras and appointing them to the training and test sets\n",
    "cifar10_mnist = keras.datasets.cifar10\n",
    "(X_train_full, y_train_full), (X_test, y_test) = cifar10_mnist.load_data()"
   ]
  },
  {
   "cell_type": "code",
   "execution_count": 4,
   "id": "fdb228bc",
   "metadata": {},
   "outputs": [
    {
     "data": {
      "text/plain": [
       "(50000, 32, 32, 3)"
      ]
     },
     "execution_count": 4,
     "metadata": {},
     "output_type": "execute_result"
    }
   ],
   "source": [
    "X_train_full.shape"
   ]
  },
  {
   "cell_type": "code",
   "execution_count": 5,
   "id": "43935c5e",
   "metadata": {},
   "outputs": [
    {
     "data": {
      "text/plain": [
       "(10000, 32, 32, 3)"
      ]
     },
     "execution_count": 5,
     "metadata": {},
     "output_type": "execute_result"
    }
   ],
   "source": [
    "X_test.shape"
   ]
  },
  {
   "cell_type": "code",
   "execution_count": 6,
   "id": "88d83d10",
   "metadata": {},
   "outputs": [
    {
     "data": {
      "text/plain": [
       "(45000, 32, 32, 3)"
      ]
     },
     "execution_count": 6,
     "metadata": {},
     "output_type": "execute_result"
    }
   ],
   "source": [
    "# splitting the training set into a smaller training-, and validation-set\n",
    "X_valid, X_train = X_train_full[:5000], X_train_full[5000:]\n",
    "y_valid, y_train = y_train_full[:5000], y_train_full[5000:]\n",
    "X_train.shape"
   ]
  },
  {
   "cell_type": "code",
   "execution_count": 7,
   "id": "7be13032",
   "metadata": {},
   "outputs": [
    {
     "data": {
      "text/plain": [
       "(32, 32, 3)"
      ]
     },
     "execution_count": 7,
     "metadata": {},
     "output_type": "execute_result"
    }
   ],
   "source": [
    "# Compute the mean for each pixel.\n",
    "pixel_means = X_train.mean(axis=0)\n",
    "pixel_means.shape"
   ]
  },
  {
   "cell_type": "code",
   "execution_count": 8,
   "id": "b8baf508",
   "metadata": {},
   "outputs": [],
   "source": [
    "# Compute the standard deviation for each pixel.\n",
    "pixel_stds = X_train.std(axis=0)"
   ]
  },
  {
   "cell_type": "code",
   "execution_count": 9,
   "id": "882b4e1c",
   "metadata": {},
   "outputs": [],
   "source": [
    "# Scale the inputs to mean 0 and standard deviation 1 to achieve self-normalization with SELU and LeCun.\n",
    "X_train_standardized = (X_train - pixel_means) / pixel_stds\n",
    "\n",
    "X_valid_standardized = (X_valid - X_valid.mean(axis=0)) / X_valid.std(axis=0)\n",
    "X_test_standardized = (X_test - X_test.mean(axis=0)) / X_test.std(axis=0)"
   ]
  },
  {
   "cell_type": "code",
   "execution_count": 10,
   "id": "515b923d",
   "metadata": {},
   "outputs": [
    {
     "data": {
      "text/plain": [
       "(45000, 32, 32, 3)"
      ]
     },
     "execution_count": 10,
     "metadata": {},
     "output_type": "execute_result"
    }
   ],
   "source": [
    "X_train_standardized.shape"
   ]
  },
  {
   "cell_type": "code",
   "execution_count": 11,
   "id": "63c79338",
   "metadata": {},
   "outputs": [
    {
     "data": {
      "text/plain": [
       "array([[[-9.20695619e-17, -2.96059473e-19, -1.45769816e-16],\n",
       "        [ 7.32796539e-17,  1.12759185e-16,  1.99988174e-17],\n",
       "        [ 5.81855551e-17, -5.07840683e-17, -1.16716513e-16],\n",
       "        ...,\n",
       "        [-1.18033978e-16, -1.13918751e-16, -2.95368668e-17],\n",
       "        [ 6.35047570e-17,  2.42966141e-17, -5.25653595e-17],\n",
       "        [ 1.02747440e-16, -1.42118416e-16,  1.57404953e-17]],\n",
       "\n",
       "       [[ 1.43771415e-16, -2.12008189e-16, -3.04645198e-17],\n",
       "        [-1.63933065e-16, -1.15739517e-16, -6.46741919e-17],\n",
       "        [-1.05939948e-16, -3.68791417e-17,  1.78430110e-16],\n",
       "        ...,\n",
       "        [-7.20115325e-17, -8.79099263e-17,  1.03719502e-17],\n",
       "        [ 4.34832417e-16,  1.16859608e-16,  2.03146142e-17],\n",
       "        [-3.50213685e-16, -2.16286248e-16,  1.62240591e-17]],\n",
       "\n",
       "       [[ 8.97899039e-17,  7.61810368e-17, -6.74818226e-17],\n",
       "        [-2.00200350e-16,  9.11271059e-17,  4.35651515e-17],\n",
       "        [-1.97624633e-16, -1.41481888e-16,  6.19652477e-17],\n",
       "        ...,\n",
       "        [ 1.82125919e-16, -1.74290212e-16, -9.16254726e-17],\n",
       "        [ 5.25456222e-17,  2.09955510e-16, -2.14351993e-16],\n",
       "        [ 2.08613373e-16, -2.07394595e-16, -2.01261230e-16]],\n",
       "\n",
       "       ...,\n",
       "\n",
       "       [[-1.76722834e-17, -1.39851094e-17,  3.57282105e-17],\n",
       "        [-3.60836052e-16, -2.23771619e-18,  2.92266211e-17],\n",
       "        [ 2.32745921e-17, -3.71372686e-17, -4.99168608e-17],\n",
       "        ...,\n",
       "        [-1.33335318e-16,  5.06853818e-17, -4.46561306e-16],\n",
       "        [ 4.80307152e-17, -4.01851392e-17,  8.02567889e-17],\n",
       "        [-8.66714108e-17,  7.71728360e-17, -3.61735333e-17]],\n",
       "\n",
       "       [[ 4.95961297e-18,  8.91200693e-17,  1.24063105e-16],\n",
       "        [ 3.61315915e-18,  9.29632914e-17,  5.26748398e-17],\n",
       "        [-3.90511312e-18,  1.57078208e-16,  4.62927536e-17],\n",
       "        ...,\n",
       "        [-9.45589286e-17, -4.98761526e-17, -2.67331836e-16],\n",
       "        [ 5.26295057e-17,  1.48779754e-16, -1.84899010e-16],\n",
       "        [ 1.64145241e-16,  1.12709841e-16,  5.98434882e-17]],\n",
       "\n",
       "       [[ 1.40971185e-16,  2.65946524e-16,  7.25354190e-17],\n",
       "        [ 1.93573552e-17, -1.36067700e-16,  1.67726943e-17],\n",
       "        [ 6.88918058e-17, -1.81716370e-16, -5.44849659e-17],\n",
       "        ...,\n",
       "        [-6.30606678e-17,  5.02141538e-17,  1.77068237e-17],\n",
       "        [ 1.48227110e-16, -5.99175031e-17, -1.26143540e-16],\n",
       "        [ 6.24132844e-16,  6.67663455e-17,  1.36345256e-16]]])"
      ]
     },
     "execution_count": 11,
     "metadata": {},
     "output_type": "execute_result"
    }
   ],
   "source": [
    "# Validate that the mean is close to 0 for each pixel.\n",
    "X_train_standardized.mean(axis=0)"
   ]
  },
  {
   "cell_type": "code",
   "execution_count": 12,
   "id": "f283b9df",
   "metadata": {
    "scrolled": true
   },
   "outputs": [
    {
     "data": {
      "text/plain": [
       "array([[[1., 1., 1.],\n",
       "        [1., 1., 1.],\n",
       "        [1., 1., 1.],\n",
       "        ...,\n",
       "        [1., 1., 1.],\n",
       "        [1., 1., 1.],\n",
       "        [1., 1., 1.]],\n",
       "\n",
       "       [[1., 1., 1.],\n",
       "        [1., 1., 1.],\n",
       "        [1., 1., 1.],\n",
       "        ...,\n",
       "        [1., 1., 1.],\n",
       "        [1., 1., 1.],\n",
       "        [1., 1., 1.]],\n",
       "\n",
       "       [[1., 1., 1.],\n",
       "        [1., 1., 1.],\n",
       "        [1., 1., 1.],\n",
       "        ...,\n",
       "        [1., 1., 1.],\n",
       "        [1., 1., 1.],\n",
       "        [1., 1., 1.]],\n",
       "\n",
       "       ...,\n",
       "\n",
       "       [[1., 1., 1.],\n",
       "        [1., 1., 1.],\n",
       "        [1., 1., 1.],\n",
       "        ...,\n",
       "        [1., 1., 1.],\n",
       "        [1., 1., 1.],\n",
       "        [1., 1., 1.]],\n",
       "\n",
       "       [[1., 1., 1.],\n",
       "        [1., 1., 1.],\n",
       "        [1., 1., 1.],\n",
       "        ...,\n",
       "        [1., 1., 1.],\n",
       "        [1., 1., 1.],\n",
       "        [1., 1., 1.]],\n",
       "\n",
       "       [[1., 1., 1.],\n",
       "        [1., 1., 1.],\n",
       "        [1., 1., 1.],\n",
       "        ...,\n",
       "        [1., 1., 1.],\n",
       "        [1., 1., 1.],\n",
       "        [1., 1., 1.]]])"
      ]
     },
     "execution_count": 12,
     "metadata": {},
     "output_type": "execute_result"
    }
   ],
   "source": [
    "# Validate that the standard deviation is close to 1 for each pixel.\n",
    "X_train_standardized.std(axis=0)"
   ]
  },
  {
   "cell_type": "markdown",
   "id": "dac65b5e",
   "metadata": {},
   "source": [
    "# Create a model using the Sequential API"
   ]
  },
  {
   "cell_type": "code",
   "execution_count": 13,
   "id": "4069ff5b",
   "metadata": {},
   "outputs": [],
   "source": [
    "# initializing the sequential model\n",
    "model = keras.models.Sequential()\n",
    "\n",
    "# Input layer, that matches the image-properties of the training and validation set:\n",
    "model.add(keras.layers.Flatten(input_shape=[32, 32, 3]))\n",
    "\n",
    "# Hidden layers:\n",
    "for layer in range(14):\n",
    "    model.add(keras.layers.Dense(80, activation=\"selu\", kernel_initializer=\"lecun_normal\"))\n",
    "\n",
    "# Use alpha dropout in the last hidden layer.\n",
    "model.add(keras.layers.AlphaDropout(rate=0.20))\n",
    "    \n",
    "# Output layer.\n",
    "model.add(keras.layers.Dense(10, activation=\"softmax\"))"
   ]
  },
  {
   "cell_type": "markdown",
   "id": "5ecc5a7e",
   "metadata": {},
   "source": [
    "# Compile the model"
   ]
  },
  {
   "cell_type": "code",
   "execution_count": 14,
   "id": "720081d2",
   "metadata": {},
   "outputs": [],
   "source": [
    "# The optimixer is Stochastic Gradient Descent with momentum optimization.\n",
    "model.compile(loss=\"sparse_categorical_crossentropy\",\n",
    "              optimizer=keras.optimizers.SGD(momentum=0.9),\n",
    "              metrics=[\"accuracy\"])"
   ]
  },
  {
   "cell_type": "code",
   "execution_count": 15,
   "id": "3dedaa64",
   "metadata": {},
   "outputs": [
    {
     "name": "stdout",
     "output_type": "stream",
     "text": [
      "Epoch 1/40\n",
      "1407/1407 [==============================] - 3s 2ms/step - loss: 1.9783 - accuracy: 0.2831 - val_loss: 1.9365 - val_accuracy: 0.3620\n",
      "Epoch 2/40\n",
      "1407/1407 [==============================] - 3s 2ms/step - loss: 1.7435 - accuracy: 0.3815 - val_loss: 1.7709 - val_accuracy: 0.4028\n",
      "Epoch 3/40\n",
      "1407/1407 [==============================] - 3s 2ms/step - loss: 1.6525 - accuracy: 0.4194 - val_loss: 1.6803 - val_accuracy: 0.4328\n",
      "Epoch 4/40\n",
      "1407/1407 [==============================] - 3s 2ms/step - loss: 1.5898 - accuracy: 0.4455 - val_loss: 1.7420 - val_accuracy: 0.4284\n",
      "Epoch 5/40\n",
      "1407/1407 [==============================] - 3s 2ms/step - loss: 1.5370 - accuracy: 0.4639 - val_loss: 1.6893 - val_accuracy: 0.4680\n",
      "Epoch 6/40\n",
      "1407/1407 [==============================] - 3s 2ms/step - loss: 1.4941 - accuracy: 0.4802 - val_loss: 1.6949 - val_accuracy: 0.4500\n",
      "Epoch 7/40\n",
      "1407/1407 [==============================] - 3s 2ms/step - loss: 1.4611 - accuracy: 0.4908 - val_loss: 1.7114 - val_accuracy: 0.4562\n",
      "Epoch 8/40\n",
      "1407/1407 [==============================] - 3s 2ms/step - loss: 1.4243 - accuracy: 0.5054 - val_loss: 1.6194 - val_accuracy: 0.4830\n",
      "Epoch 9/40\n",
      "1407/1407 [==============================] - 3s 2ms/step - loss: 1.3950 - accuracy: 0.5156 - val_loss: 1.6898 - val_accuracy: 0.4490\n",
      "Epoch 10/40\n",
      "1407/1407 [==============================] - 3s 2ms/step - loss: 1.3722 - accuracy: 0.5267 - val_loss: 1.7203 - val_accuracy: 0.4730\n",
      "Epoch 11/40\n",
      "1407/1407 [==============================] - 3s 2ms/step - loss: 1.3511 - accuracy: 0.5348 - val_loss: 1.7127 - val_accuracy: 0.4728\n",
      "Epoch 12/40\n",
      "1407/1407 [==============================] - 3s 2ms/step - loss: 1.3271 - accuracy: 0.5429 - val_loss: 1.6215 - val_accuracy: 0.4782\n",
      "Epoch 13/40\n",
      "1407/1407 [==============================] - 3s 2ms/step - loss: 1.3045 - accuracy: 0.5498 - val_loss: 1.6942 - val_accuracy: 0.4946\n",
      "Epoch 14/40\n",
      "1407/1407 [==============================] - 3s 2ms/step - loss: 1.1056 - accuracy: 0.6192 - val_loss: 1.5645 - val_accuracy: 0.5276\n",
      "Epoch 15/40\n",
      "1407/1407 [==============================] - 3s 2ms/step - loss: 1.0355 - accuracy: 0.6420 - val_loss: 1.5962 - val_accuracy: 0.5330\n",
      "Epoch 16/40\n",
      "1407/1407 [==============================] - 3s 2ms/step - loss: 1.0059 - accuracy: 0.6507 - val_loss: 1.6457 - val_accuracy: 0.5328\n",
      "Epoch 17/40\n",
      "1407/1407 [==============================] - 3s 2ms/step - loss: 0.9874 - accuracy: 0.6572 - val_loss: 1.6328 - val_accuracy: 0.5316\n",
      "Epoch 18/40\n",
      "1407/1407 [==============================] - 3s 2ms/step - loss: 0.9690 - accuracy: 0.6628 - val_loss: 1.6641 - val_accuracy: 0.5318\n",
      "Epoch 19/40\n",
      "1407/1407 [==============================] - 3s 2ms/step - loss: 0.9520 - accuracy: 0.6699 - val_loss: 1.7001 - val_accuracy: 0.5338\n",
      "Epoch 20/40\n",
      "1407/1407 [==============================] - 3s 2ms/step - loss: 0.9132 - accuracy: 0.6841 - val_loss: 1.7146 - val_accuracy: 0.5340\n"
     ]
    }
   ],
   "source": [
    "# EarlyStopping (with rollback to the best model).\n",
    "early_stopping = keras.callbacks.EarlyStopping(patience=6, restore_best_weights=True)\n",
    "\n",
    "# Performance scheduling\n",
    "lr_scheduler = keras.callbacks.ReduceLROnPlateau(factor=0.1, patience=5)\n",
    "\n",
    "# Train the model with early stopping and performance scheduling.\n",
    "history = model.fit(X_train_standardized, y_train, epochs=40,\n",
    "                    validation_data=(X_valid_standardized, y_valid),\n",
    "                    callbacks=[lr_scheduler, early_stopping])"
   ]
  },
  {
   "cell_type": "code",
   "execution_count": 16,
   "id": "aa31ce71",
   "metadata": {},
   "outputs": [
    {
     "data": {
      "image/png": "[encoded data removed]",
      "text/plain": [
       "<Figure size 576x360 with 1 Axes>"
      ]
     },
     "metadata": {
      "needs_background": "light"
     },
     "output_type": "display_data"
    }
   ],
   "source": [
    "# Show the learning curves.\n",
    "pd.DataFrame(history.history).plot(figsize=(8, 5))\n",
    "plt.grid(True)\n",
    "plt.gca().set_ylim(0, 1)\n",
    "plt.show()"
   ]
  },
  {
   "cell_type": "code",
   "execution_count": 17,
   "id": "78f5526e",
   "metadata": {},
   "outputs": [
    {
     "name": "stdout",
     "output_type": "stream",
     "text": [
      "313/313 [==============================] - 0s 980us/step - loss: 1.5770 - accuracy: 0.5293\n"
     ]
    },
    {
     "data": {
      "text/plain": [
       "[1.5769973993301392, 0.5292999744415283]"
      ]
     },
     "execution_count": 17,
     "metadata": {},
     "output_type": "execute_result"
    }
   ],
   "source": [
    "# evaluating the model with the test-set\n",
    "model.evaluate(X_test_standardized, y_test)"
   ]
  }
 ],
 "metadata": {
  "kernelspec": {
   "display_name": "Python 3",
   "language": "python",
   "name": "python3"
  },
  "language_info": {
   "codemirror_mode": {
    "name": "ipython",
    "version": 3
   },
   "file_extension": ".py",
   "mimetype": "text/x-python",
   "name": "python",
   "nbconvert_exporter": "python",
   "pygments_lexer": "ipython3",
   "version": "3.8.8"
  }
 },
 "nbformat": 4,
 "nbformat_minor": 5
}
