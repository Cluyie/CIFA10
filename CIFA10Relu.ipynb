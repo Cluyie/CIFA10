{
 "cells": [
  {
   "cell_type": "markdown",
   "id": "408ddace",
   "metadata": {},
   "source": [
    "# Setup"
   ]
  },
  {
   "cell_type": "code",
   "execution_count": 1,
   "id": "3f03e4e7",
   "metadata": {},
   "outputs": [],
   "source": [
    "# Common imports\n",
    "import sys\n",
    "import os\n",
    "import sklearn\n",
    "import numpy as np\n",
    "import pandas as pd\n",
    "import tensorflow as tf\n",
    "from tensorflow import keras\n",
    "\n",
    "# to make this notebook's output stable across runs\n",
    "np.random.seed(42)\n",
    "tf.random.set_seed(42)\n",
    "\n",
    "# To plot pretty figures\n",
    "%matplotlib inline\n",
    "import matplotlib.pyplot as plt\n",
    "\n",
    "# Ignore useless warnings (see SciPy issue #5998)\n",
    "import warnings\n",
    "warnings.filterwarnings(action=\"ignore\", message=\"^internal gelsd\")"
   ]
  },
  {
   "cell_type": "markdown",
   "id": "221d647c",
   "metadata": {},
   "source": [
    "## Load the data"
   ]
  },
  {
   "cell_type": "code",
   "execution_count": 2,
   "id": "376dce2f",
   "metadata": {},
   "outputs": [],
   "source": [
    "# Load datasets from keras.io\n",
    "\n",
    "(X_train_full, y_train_full), (X_test, y_test) = tf.keras.datasets.cifar10.load_data()"
   ]
  },
  {
   "cell_type": "code",
   "execution_count": 3,
   "id": "a2900683",
   "metadata": {},
   "outputs": [],
   "source": [
    "# Split the full training set into a validation set and a training set,\n",
    "# and scale the pixel intensities down to the 0-1 range and convert them to floats, by dividing by 255.\n",
    "X_valid, X_train = X_train_full[:5000] / 255., X_train_full[5000:] / 255.\n",
    "y_valid, y_train = y_train_full[:5000], y_train_full[5000:]\n",
    "X_test = X_test / 255."
   ]
  },
  {
   "cell_type": "markdown",
   "id": "3273ff1b",
   "metadata": {},
   "source": [
    "## Create a model using the Sequential API"
   ]
  },
  {
   "cell_type": "code",
   "execution_count": 4,
   "id": "4fac8935",
   "metadata": {},
   "outputs": [],
   "source": [
    "model = keras.models.Sequential()\n",
    "# Input layer:\n",
    "model.add(keras.layers.Flatten(input_shape=[32, 32, 3]))\n",
    "\n",
    "# Hidden layers:\n",
    "for layer in range(3):\n",
    "    model.add(keras.layers.Dense(80, activation=\"relu\"))\n",
    "\n",
    "model.add(keras.layers.AlphaDropout(rate=0.10))\n",
    "# Output layer.\n",
    "model.add(keras.layers.Dense(10, activation=\"softmax\"))"
   ]
  },
  {
   "cell_type": "markdown",
   "id": "e53bb748",
   "metadata": {},
   "source": [
    "## Compile the model"
   ]
  },
  {
   "cell_type": "code",
   "execution_count": 5,
   "id": "3a1cfe4e",
   "metadata": {},
   "outputs": [],
   "source": [
    "model.compile(loss=\"sparse_categorical_crossentropy\",\n",
    "              optimizer=keras.optimizers.SGD(momentum=0.9),\n",
    "              metrics=[\"accuracy\"])"
   ]
  },
  {
   "cell_type": "markdown",
   "id": "fda1fbc0",
   "metadata": {},
   "source": [
    "## Train the model"
   ]
  },
  {
   "cell_type": "code",
   "execution_count": 6,
   "id": "e06c8fd3",
   "metadata": {},
   "outputs": [],
   "source": [
    "# EarlyStopping (with rollback to the best model).\n",
    "early_stopping_cb = keras.callbacks.EarlyStopping(patience=6, restore_best_weights=True)\n",
    "\n",
    "\n",
    "# Performance scheduling\n",
    "lr_scheduler = keras.callbacks.ReduceLROnPlateau(factor=0.5, patience=4)"
   ]
  },
  {
   "cell_type": "code",
   "execution_count": 7,
   "id": "8929c422",
   "metadata": {},
   "outputs": [
    {
     "name": "stdout",
     "output_type": "stream",
     "text": [
      "Epoch 1/40\n",
      "1407/1407 [==============================] - 4s 3ms/step - loss: 1.9891 - accuracy: 0.2730 - val_loss: 1.8696 - val_accuracy: 0.3290 - lr: 0.0100\n",
      "Epoch 2/40\n",
      "1407/1407 [==============================] - 4s 2ms/step - loss: 1.8277 - accuracy: 0.3374 - val_loss: 1.7687 - val_accuracy: 0.3642 - lr: 0.0100\n",
      "Epoch 3/40\n",
      "1407/1407 [==============================] - 3s 2ms/step - loss: 1.7704 - accuracy: 0.3638 - val_loss: 1.7118 - val_accuracy: 0.3828 - lr: 0.0100\n",
      "Epoch 4/40\n",
      "1407/1407 [==============================] - 4s 3ms/step - loss: 1.7311 - accuracy: 0.3794 - val_loss: 1.8104 - val_accuracy: 0.3672 - lr: 0.0100\n",
      "Epoch 5/40\n",
      "1407/1407 [==============================] - 4s 3ms/step - loss: 1.6949 - accuracy: 0.3924 - val_loss: 1.7564 - val_accuracy: 0.3926 - lr: 0.0100\n",
      "Epoch 6/40\n",
      "1407/1407 [==============================] - 3s 2ms/step - loss: 1.6703 - accuracy: 0.4021 - val_loss: 1.6657 - val_accuracy: 0.4052 - lr: 0.0100\n",
      "Epoch 7/40\n",
      "1407/1407 [==============================] - 3s 2ms/step - loss: 1.6522 - accuracy: 0.4122 - val_loss: 1.7172 - val_accuracy: 0.3920 - lr: 0.0100\n",
      "Epoch 8/40\n",
      "1407/1407 [==============================] - 3s 2ms/step - loss: 1.6246 - accuracy: 0.4203 - val_loss: 1.5947 - val_accuracy: 0.4352 - lr: 0.0100\n",
      "Epoch 9/40\n",
      "1407/1407 [==============================] - 4s 3ms/step - loss: 1.6131 - accuracy: 0.4228 - val_loss: 1.5970 - val_accuracy: 0.4314 - lr: 0.0100\n",
      "Epoch 10/40\n",
      "1407/1407 [==============================] - 4s 3ms/step - loss: 1.5987 - accuracy: 0.4297 - val_loss: 1.6269 - val_accuracy: 0.4412 - lr: 0.0100\n",
      "Epoch 11/40\n",
      "1407/1407 [==============================] - 4s 3ms/step - loss: 1.5898 - accuracy: 0.4317 - val_loss: 1.7031 - val_accuracy: 0.4138 - lr: 0.0100\n",
      "Epoch 12/40\n",
      "1407/1407 [==============================] - 4s 3ms/step - loss: 1.5741 - accuracy: 0.4403 - val_loss: 1.5883 - val_accuracy: 0.4326 - lr: 0.0100\n",
      "Epoch 13/40\n",
      "1407/1407 [==============================] - 4s 3ms/step - loss: 1.5545 - accuracy: 0.4458 - val_loss: 1.5456 - val_accuracy: 0.4542 - lr: 0.0100\n",
      "Epoch 14/40\n",
      "1407/1407 [==============================] - 4s 3ms/step - loss: 1.5499 - accuracy: 0.4474 - val_loss: 1.5150 - val_accuracy: 0.4680 - lr: 0.0100\n",
      "Epoch 15/40\n",
      "1407/1407 [==============================] - 3s 2ms/step - loss: 1.5356 - accuracy: 0.4525 - val_loss: 1.5715 - val_accuracy: 0.4580 - lr: 0.0100\n",
      "Epoch 16/40\n",
      "1407/1407 [==============================] - 3s 2ms/step - loss: 1.5297 - accuracy: 0.4550 - val_loss: 1.5947 - val_accuracy: 0.4586 - lr: 0.0100\n",
      "Epoch 17/40\n",
      "1407/1407 [==============================] - 3s 2ms/step - loss: 1.5168 - accuracy: 0.4599 - val_loss: 1.5623 - val_accuracy: 0.4640 - lr: 0.0100\n",
      "Epoch 18/40\n",
      "1407/1407 [==============================] - 4s 2ms/step - loss: 1.5087 - accuracy: 0.4659 - val_loss: 1.5883 - val_accuracy: 0.4448 - lr: 0.0100\n",
      "Epoch 19/40\n",
      "1407/1407 [==============================] - 3s 2ms/step - loss: 1.4150 - accuracy: 0.4931 - val_loss: 1.5088 - val_accuracy: 0.4738 - lr: 0.0050\n",
      "Epoch 20/40\n",
      "1407/1407 [==============================] - 3s 2ms/step - loss: 1.3983 - accuracy: 0.4999 - val_loss: 1.4761 - val_accuracy: 0.4802 - lr: 0.0050\n",
      "Epoch 21/40\n",
      "1407/1407 [==============================] - 3s 2ms/step - loss: 1.3875 - accuracy: 0.5019 - val_loss: 1.5642 - val_accuracy: 0.4660 - lr: 0.0050\n",
      "Epoch 22/40\n",
      "1407/1407 [==============================] - 4s 3ms/step - loss: 1.3836 - accuracy: 0.5050 - val_loss: 1.5029 - val_accuracy: 0.4828 - lr: 0.0050\n",
      "Epoch 23/40\n",
      "1407/1407 [==============================] - 3s 2ms/step - loss: 1.3745 - accuracy: 0.5103 - val_loss: 1.5313 - val_accuracy: 0.4682 - lr: 0.0050\n",
      "Epoch 24/40\n",
      "1407/1407 [==============================] - 3s 2ms/step - loss: 1.3658 - accuracy: 0.5114 - val_loss: 1.4883 - val_accuracy: 0.4816 - lr: 0.0050\n",
      "Epoch 25/40\n",
      "1407/1407 [==============================] - 3s 2ms/step - loss: 1.3111 - accuracy: 0.5294 - val_loss: 1.4640 - val_accuracy: 0.4972 - lr: 0.0025\n",
      "Epoch 26/40\n",
      "1407/1407 [==============================] - 4s 3ms/step - loss: 1.2981 - accuracy: 0.5350 - val_loss: 1.4653 - val_accuracy: 0.4908 - lr: 0.0025\n",
      "Epoch 27/40\n",
      "1407/1407 [==============================] - 3s 2ms/step - loss: 1.2956 - accuracy: 0.5334 - val_loss: 1.4376 - val_accuracy: 0.4964 - lr: 0.0025\n",
      "Epoch 28/40\n",
      "1407/1407 [==============================] - 3s 2ms/step - loss: 1.2902 - accuracy: 0.5365 - val_loss: 1.4260 - val_accuracy: 0.4938 - lr: 0.0025\n",
      "Epoch 29/40\n",
      "1407/1407 [==============================] - 4s 3ms/step - loss: 1.2864 - accuracy: 0.5371 - val_loss: 1.4533 - val_accuracy: 0.5002 - lr: 0.0025\n",
      "Epoch 30/40\n",
      "1407/1407 [==============================] - 4s 3ms/step - loss: 1.2804 - accuracy: 0.5393 - val_loss: 1.4552 - val_accuracy: 0.4992 - lr: 0.0025\n",
      "Epoch 31/40\n",
      "1407/1407 [==============================] - 4s 3ms/step - loss: 1.2776 - accuracy: 0.5414 - val_loss: 1.4636 - val_accuracy: 0.5018 - lr: 0.0025\n",
      "Epoch 32/40\n",
      "1407/1407 [==============================] - 4s 3ms/step - loss: 1.2731 - accuracy: 0.5431 - val_loss: 1.4435 - val_accuracy: 0.5004 - lr: 0.0025\n",
      "Epoch 33/40\n",
      "1407/1407 [==============================] - 4s 3ms/step - loss: 1.2378 - accuracy: 0.5554 - val_loss: 1.4268 - val_accuracy: 0.5068 - lr: 0.0012\n",
      "Epoch 34/40\n",
      "1407/1407 [==============================] - 4s 3ms/step - loss: 1.2363 - accuracy: 0.5552 - val_loss: 1.4353 - val_accuracy: 0.5036 - lr: 0.0012\n"
     ]
    }
   ],
   "source": [
    "# Train the model with callbacks\n",
    "history = model.fit(X_train, y_train, epochs=40,\n",
    "                    validation_data=(X_valid, y_valid),\n",
    "                    callbacks=[early_stopping_cb, lr_scheduler])"
   ]
  },
  {
   "cell_type": "markdown",
   "id": "b562307b",
   "metadata": {},
   "source": [
    "## Evaluate the model"
   ]
  },
  {
   "cell_type": "code",
   "execution_count": 8,
   "id": "c0d61535",
   "metadata": {},
   "outputs": [
    {
     "name": "stdout",
     "output_type": "stream",
     "text": [
      "313/313 [==============================] - 0s 2ms/step - loss: 1.4304 - accuracy: 0.5026\n"
     ]
    },
    {
     "data": {
      "text/plain": [
       "[1.430402159690857, 0.5026000142097473]"
      ]
     },
     "execution_count": 8,
     "metadata": {},
     "output_type": "execute_result"
    }
   ],
   "source": [
    "model.evaluate(X_test, y_test)"
   ]
  }
 ],
 "metadata": {
  "kernelspec": {
   "display_name": "Python 3",
   "language": "python",
   "name": "python3"
  },
  "language_info": {
   "codemirror_mode": {
    "name": "ipython",
    "version": 3
   },
   "file_extension": ".py",
   "mimetype": "text/x-python",
   "name": "python",
   "nbconvert_exporter": "python",
   "pygments_lexer": "ipython3",
   "version": "3.8.8"
  }
 },
 "nbformat": 4,
 "nbformat_minor": 5
}
