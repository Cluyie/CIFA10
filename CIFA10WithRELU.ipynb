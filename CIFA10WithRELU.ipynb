{
 "cells": [
  {
   "cell_type": "markdown",
   "id": "f796ea56",
   "metadata": {},
   "source": [
    "# Setup"
   ]
  },
  {
   "cell_type": "code",
   "execution_count": 1,
   "id": "bf9af4c5",
   "metadata": {},
   "outputs": [],
   "source": [
    "# Common imports\n",
    "import sys\n",
    "import os\n",
    "import sklearn\n",
    "import numpy as np\n",
    "import pandas as pd\n",
    "import tensorflow as tf\n",
    "from tensorflow import keras\n",
    "\n",
    "# to make this notebook's output stable across runs\n",
    "np.random.seed(42)\n",
    "tf.random.set_seed(42)\n",
    "\n",
    "# To plot pretty figures\n",
    "%matplotlib inline\n",
    "import matplotlib.pyplot as plt\n",
    "\n",
    "# Ignore useless warnings (see SciPy issue #5998)\n",
    "import warnings\n",
    "warnings.filterwarnings(action=\"ignore\", message=\"^internal gelsd\")"
   ]
  },
  {
   "cell_type": "markdown",
   "id": "94d4775a",
   "metadata": {},
   "source": [
    "## Load the data"
   ]
  },
  {
   "cell_type": "code",
   "execution_count": 2,
   "id": "376dce2f",
   "metadata": {},
   "outputs": [],
   "source": [
    "# Load datasets from keras.io\n",
    "tf.keras.datasets.cifar10.load_data()\n",
    "(X_train_full, y_train_full), (X_test, y_test) = tf.keras.datasets.cifar10.load_data()"
   ]
  },
  {
   "cell_type": "code",
   "execution_count": 3,
   "id": "a2900683",
   "metadata": {},
   "outputs": [],
   "source": [
    "# Split the full training set into a validation set and a training set,\n",
    "# and scale the pixel intensities down to the 0-1 range and convert them to floats, by dividing by 255.\n",
    "X_valid, X_train = X_train_full[:5000] / 255., X_train_full[5000:] / 255.\n",
    "y_valid, y_train = y_train_full[:5000], y_train_full[5000:]\n",
    "X_test = X_test / 255."
   ]
  },
  {
   "cell_type": "markdown",
   "id": "e53b665a",
   "metadata": {},
   "source": [
    "## Create a model using the Sequential API"
   ]
  },
  {
   "cell_type": "code",
   "execution_count": 4,
   "id": "4fac8935",
   "metadata": {},
   "outputs": [],
   "source": [
    "model = keras.models.Sequential()\n",
    "# Input layer:\n",
    "model.add(keras.layers.Flatten(input_shape=[32, 32, 3]))\n",
    "\n",
    "# Hidden layers:\n",
    "for layer in range(3):\n",
    "    model.add(keras.layers.Dense(80, activation=\"relu\"))\n",
    "\n",
    "model.add(keras.layers.AlphaDropout(rate=0.10))\n",
    "# Output layer.\n",
    "model.add(keras.layers.Dense(10, activation=\"softmax\"))"
   ]
  },
  {
   "cell_type": "markdown",
   "id": "63d9d2a3",
   "metadata": {},
   "source": [
    "## Compile the model"
   ]
  },
  {
   "cell_type": "code",
   "execution_count": 5,
   "id": "3a1cfe4e",
   "metadata": {},
   "outputs": [],
   "source": [
    "model.compile(loss=\"sparse_categorical_crossentropy\",\n",
    "              optimizer=\"sgd\",\n",
    "              metrics=[\"accuracy\"])"
   ]
  },
  {
   "cell_type": "markdown",
   "id": "c8e64eee",
   "metadata": {},
   "source": [
    "## Train the model"
   ]
  },
  {
   "cell_type": "code",
   "execution_count": 6,
   "id": "e06c8fd3",
   "metadata": {},
   "outputs": [],
   "source": [
    "# EarlyStopping (with rollback to the best model).\n",
    "early_stopping_cb = keras.callbacks.EarlyStopping(patience=6, restore_best_weights=True)\n",
    "\n",
    "\n",
    "# Performance scheduling\n",
    "lr_scheduler = keras.callbacks.ReduceLROnPlateau(factor=0.5, patience=4)"
   ]
  },
  {
   "cell_type": "code",
   "execution_count": 7,
   "id": "8929c422",
   "metadata": {},
   "outputs": [
    {
     "name": "stdout",
     "output_type": "stream",
     "text": [
      "Epoch 1/40\n",
      "1407/1407 [==============================] - 4s 2ms/step - loss: 2.1635 - accuracy: 0.2110 - val_loss: 1.8910 - val_accuracy: 0.3176 - lr: 0.0100\n",
      "Epoch 2/40\n",
      "1407/1407 [==============================] - 3s 2ms/step - loss: 1.9323 - accuracy: 0.2990 - val_loss: 1.8437 - val_accuracy: 0.3294 - lr: 0.0100\n",
      "Epoch 3/40\n",
      "1407/1407 [==============================] - 3s 2ms/step - loss: 1.8354 - accuracy: 0.3341 - val_loss: 1.8731 - val_accuracy: 0.3496 - lr: 0.0100\n",
      "Epoch 4/40\n",
      "1407/1407 [==============================] - 3s 2ms/step - loss: 1.7774 - accuracy: 0.3578 - val_loss: 1.9167 - val_accuracy: 0.3392 - lr: 0.0100\n",
      "Epoch 5/40\n",
      "1407/1407 [==============================] - 3s 2ms/step - loss: 1.7408 - accuracy: 0.3713 - val_loss: 1.7404 - val_accuracy: 0.3722 - lr: 0.0100\n",
      "Epoch 6/40\n",
      "1407/1407 [==============================] - 4s 3ms/step - loss: 1.7104 - accuracy: 0.3847 - val_loss: 1.7130 - val_accuracy: 0.3834 - lr: 0.0100\n",
      "Epoch 7/40\n",
      "1407/1407 [==============================] - 3s 2ms/step - loss: 1.6836 - accuracy: 0.3955 - val_loss: 1.6354 - val_accuracy: 0.4102 - lr: 0.0100\n",
      "Epoch 8/40\n",
      "1407/1407 [==============================] - 3s 2ms/step - loss: 1.6614 - accuracy: 0.4032 - val_loss: 1.6197 - val_accuracy: 0.4130 - lr: 0.0100\n",
      "Epoch 9/40\n",
      "1407/1407 [==============================] - 3s 2ms/step - loss: 1.6385 - accuracy: 0.4104 - val_loss: 1.6006 - val_accuracy: 0.4268 - lr: 0.0100\n",
      "Epoch 10/40\n",
      "1407/1407 [==============================] - 3s 2ms/step - loss: 1.6137 - accuracy: 0.4243 - val_loss: 1.6647 - val_accuracy: 0.4006 - lr: 0.0100\n",
      "Epoch 11/40\n",
      "1407/1407 [==============================] - 3s 2ms/step - loss: 1.5992 - accuracy: 0.4241 - val_loss: 1.7429 - val_accuracy: 0.3788 - lr: 0.0100\n",
      "Epoch 12/40\n",
      "1407/1407 [==============================] - 3s 2ms/step - loss: 1.5828 - accuracy: 0.4328 - val_loss: 1.5924 - val_accuracy: 0.4256 - lr: 0.0100\n",
      "Epoch 13/40\n",
      "1407/1407 [==============================] - 3s 2ms/step - loss: 1.5694 - accuracy: 0.4336 - val_loss: 1.7621 - val_accuracy: 0.4030 - lr: 0.0100\n",
      "Epoch 14/40\n",
      "1407/1407 [==============================] - 3s 2ms/step - loss: 1.5526 - accuracy: 0.4413 - val_loss: 1.5901 - val_accuracy: 0.4472 - lr: 0.0100\n",
      "Epoch 15/40\n",
      "1407/1407 [==============================] - 3s 2ms/step - loss: 1.5391 - accuracy: 0.4488 - val_loss: 1.5646 - val_accuracy: 0.4398 - lr: 0.0100\n",
      "Epoch 16/40\n",
      "1407/1407 [==============================] - 3s 2ms/step - loss: 1.5252 - accuracy: 0.4533 - val_loss: 1.6013 - val_accuracy: 0.4438 - lr: 0.0100\n",
      "Epoch 17/40\n",
      "1407/1407 [==============================] - 3s 2ms/step - loss: 1.5161 - accuracy: 0.4552 - val_loss: 1.5543 - val_accuracy: 0.4572 - lr: 0.0100\n",
      "Epoch 18/40\n",
      "1407/1407 [==============================] - 3s 2ms/step - loss: 1.5053 - accuracy: 0.4582 - val_loss: 1.4900 - val_accuracy: 0.4700 - lr: 0.0100\n",
      "Epoch 19/40\n",
      "1407/1407 [==============================] - 3s 2ms/step - loss: 1.4921 - accuracy: 0.4645 - val_loss: 1.5870 - val_accuracy: 0.4546 - lr: 0.0100\n",
      "Epoch 20/40\n",
      "1407/1407 [==============================] - 3s 2ms/step - loss: 1.4851 - accuracy: 0.4674 - val_loss: 1.5752 - val_accuracy: 0.4452 - lr: 0.0100\n",
      "Epoch 21/40\n",
      "1407/1407 [==============================] - 3s 2ms/step - loss: 1.4734 - accuracy: 0.4687 - val_loss: 1.5703 - val_accuracy: 0.4466 - lr: 0.0100\n",
      "Epoch 22/40\n",
      "1407/1407 [==============================] - 3s 2ms/step - loss: 1.4632 - accuracy: 0.4750 - val_loss: 1.5097 - val_accuracy: 0.4590 - lr: 0.0100\n",
      "Epoch 23/40\n",
      "1407/1407 [==============================] - 3s 2ms/step - loss: 1.4242 - accuracy: 0.4889 - val_loss: 1.4550 - val_accuracy: 0.4804 - lr: 0.0050\n",
      "Epoch 24/40\n",
      "1407/1407 [==============================] - 3s 2ms/step - loss: 1.4201 - accuracy: 0.4904 - val_loss: 1.4739 - val_accuracy: 0.4754 - lr: 0.0050\n",
      "Epoch 25/40\n",
      "1407/1407 [==============================] - 3s 2ms/step - loss: 1.4138 - accuracy: 0.4934 - val_loss: 1.4525 - val_accuracy: 0.4922 - lr: 0.0050\n",
      "Epoch 26/40\n",
      "1407/1407 [==============================] - 3s 2ms/step - loss: 1.4098 - accuracy: 0.4947 - val_loss: 1.4687 - val_accuracy: 0.4840 - lr: 0.0050\n",
      "Epoch 27/40\n",
      "1407/1407 [==============================] - 3s 2ms/step - loss: 1.4043 - accuracy: 0.4954 - val_loss: 1.4478 - val_accuracy: 0.4898 - lr: 0.0050\n",
      "Epoch 28/40\n",
      "1407/1407 [==============================] - 3s 2ms/step - loss: 1.3987 - accuracy: 0.4976 - val_loss: 1.4663 - val_accuracy: 0.4860 - lr: 0.0050\n",
      "Epoch 29/40\n",
      "1407/1407 [==============================] - 3s 2ms/step - loss: 1.3948 - accuracy: 0.5000 - val_loss: 1.4309 - val_accuracy: 0.5026 - lr: 0.0050\n",
      "Epoch 30/40\n",
      "1407/1407 [==============================] - 3s 2ms/step - loss: 1.3878 - accuracy: 0.5005 - val_loss: 2.3621 - val_accuracy: 0.3308 - lr: 0.0050\n",
      "Epoch 31/40\n",
      "1407/1407 [==============================] - 3s 2ms/step - loss: 1.3860 - accuracy: 0.5016 - val_loss: 1.5504 - val_accuracy: 0.4704 - lr: 0.0050\n",
      "Epoch 32/40\n",
      "1407/1407 [==============================] - 3s 2ms/step - loss: 1.3806 - accuracy: 0.5046 - val_loss: 1.4828 - val_accuracy: 0.4916 - lr: 0.0050\n",
      "Epoch 33/40\n",
      "1407/1407 [==============================] - 3s 2ms/step - loss: 1.3752 - accuracy: 0.5071 - val_loss: 1.4670 - val_accuracy: 0.4884 - lr: 0.0050\n",
      "Epoch 34/40\n",
      "1407/1407 [==============================] - 3s 2ms/step - loss: 1.3548 - accuracy: 0.5130 - val_loss: 1.4441 - val_accuracy: 0.5056 - lr: 0.0025\n",
      "Epoch 35/40\n",
      "1407/1407 [==============================] - 3s 2ms/step - loss: 1.3536 - accuracy: 0.5141 - val_loss: 1.4436 - val_accuracy: 0.5020 - lr: 0.0025\n"
     ]
    }
   ],
   "source": [
    "# Train the model with callbacks\n",
    "history = model.fit(X_train, y_train, epochs=40,\n",
    "                    validation_data=(X_valid, y_valid),\n",
    "                    callbacks=[early_stopping_cb, lr_scheduler])"
   ]
  },
  {
   "cell_type": "markdown",
   "id": "87baaeae",
   "metadata": {},
   "source": [
    "## Evaluate the model"
   ]
  },
  {
   "cell_type": "code",
   "execution_count": 8,
   "id": "c0d61535",
   "metadata": {},
   "outputs": [
    {
     "name": "stdout",
     "output_type": "stream",
     "text": [
      "313/313 [==============================] - 1s 2ms/step - loss: 1.4305 - accuracy: 0.4928\n"
     ]
    },
    {
     "data": {
      "text/plain": [
       "[1.430540680885315, 0.4927999973297119]"
      ]
     },
     "execution_count": 8,
     "metadata": {},
     "output_type": "execute_result"
    }
   ],
   "source": [
    "model.evaluate(X_test, y_test)"
   ]
  }
 ],
 "metadata": {
  "kernelspec": {
   "display_name": "Python 3",
   "language": "python",
   "name": "python3"
  },
  "language_info": {
   "codemirror_mode": {
    "name": "ipython",
    "version": 3
   },
   "file_extension": ".py",
   "mimetype": "text/x-python",
   "name": "python",
   "nbconvert_exporter": "python",
   "pygments_lexer": "ipython3",
   "version": "3.8.8"
  }
 },
 "nbformat": 4,
 "nbformat_minor": 5
}
